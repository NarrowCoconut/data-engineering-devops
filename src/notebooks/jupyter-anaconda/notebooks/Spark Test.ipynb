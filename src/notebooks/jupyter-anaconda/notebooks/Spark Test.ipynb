{
 "cells": [
  {
   "cell_type": "code",
   "execution_count": 1,
   "metadata": {},
   "outputs": [],
   "source": [
    "import os\n",
    "import sys\n",
    "import socket\n",
    "\n",
    "import sys,uuid,datetime\n",
    "from pyspark.sql import SparkSession\n",
    "from pyspark import SparkConf, SparkContext"
   ]
  },
  {
   "cell_type": "code",
   "execution_count": 2,
   "metadata": {},
   "outputs": [
    {
     "name": "stdout",
     "output_type": "stream",
     "text": [
      "http://192.168.2.128:9000\n"
     ]
    }
   ],
   "source": [
    "key = os.environ[\"MINIO_ACCESS_KEY\"]\n",
    "secret = os.environ[\"MINIO_SECRET_KEY\"]\n",
    "endpoint = os.environ[\"MINIO_SECRET_ENDPOINT\"]\n",
    "endpoint = \"http://192.168.2.128:9000\"\n",
    "print(endpoint)"
   ]
  },
  {
   "cell_type": "code",
   "execution_count": 3,
   "metadata": {},
   "outputs": [],
   "source": [
    "#sc.stop()\n",
    "\n",
    "spark = SparkSession.builder \\\n",
    ".master(\"k8s://https://kubernetes.docker.internal:6443\") \\\n",
    ".appName(\"test_cluster_mode\") \\\n",
    ".config(\"spark.hadoop.fs.s3a.access.key\", key) \\\n",
    ".config(\"spark.hadoop.fs.s3a.secret.key\", secret) \\\n",
    ".config(\"spark.hadoop.fs.s3a.endpoint\", endpoint) \\\n",
    ".config(\"spark.hadoop.fs.s3a.path.style.access\", \"true\") \\\n",
    ".config(\"spark.hadoop.fs.s3a.impl\", \"org.apache.hadoop.fs.s3a.S3AFileSystem\") \\\n",
    ".config(\"spark.jars.packages\", \"io.delta:delta-core_2.12:0.7.0,org.apache.hadoop:hadoop-aws:3.2.0,com.amazonaws:aws-java-sdk-bundle:1.11.375\") \\\n",
    ".config(\"spark.delta.logStore.class\", \"org.apache.spark.sql.delta.storage.S3SingleDriverLogStore\") \\\n",
    ".config('spark.submit.deployMode', 'client') \\\n",
    ".config(\"spark.kubernetes.container.image\", \"spark:spark-docker\") \\\n",
    ".config(\"spark.kubernetes.pyspark.pythonVersion\", \"3\") \\\n",
    ".config(\"spark.kubernetes.authenticate.driver.serviceAccountName\", \"default\") \\\n",
    ".config(\"spark.executor.instances\", \"1\") \\\n",
    ".config(\"spark.hadoop.fs.s3a.connection.ssl.enabled\", \"false\") \\\n",
    ".config(\"spark.kubernetes.executor.request.cores\",\"0.5\") \\\n",
    ".config(\"spark.kubernetes.executor.limit.cores\",\"1\") \\\n",
    ".config(\"jupyterService.jupyterPort\", \"30888\") \\\n",
    ".config(\"serviceAccount\", \"spark\") \\\n",
    ".config(\"spark.sql.extensions\", \"io.delta.sql.DeltaSparkSessionExtension\") \\\n",
    ".config(\"spark.sql.catalog.spark_catalog\", \"org.apache.spark.sql.delta.catalog.DeltaCatalog\") \\\n",
    ".getOrCreate()\n",
    "\n",
    "#.config(\"spark.driver.host\", \"10.1.2.104\") \\\n",
    "#.config(\"spark.driver.port\", \"4040\") \\\n",
    "\n",
    "sc = spark.sparkContext\n",
    "#sc._conf.getAll()"
   ]
  },
  {
   "cell_type": "code",
   "execution_count": 6,
   "metadata": {},
   "outputs": [
    {
     "name": "stdout",
     "output_type": "stream",
     "text": [
      "+--------------------+--------------------+\n",
      "|     propertyDetails|            viewData|\n",
      "+--------------------+--------------------+\n",
      "|[334334, [Münsing...|[, https://statsp...|\n",
      "|[102900, [Chur, S...|[, https://statsp...|\n",
      "|[661265, [Deiting...|[, https://statsp...|\n",
      "|[103561, [Evilard...|[[, 52908191, 201...|\n",
      "|[414954, [Bern, S...|[, https://statsp...|\n",
      "|[750219,, [, 2009...|[, https://statsp...|\n",
      "+--------------------+--------------------+\n",
      "\n"
     ]
    }
   ],
   "source": [
    "data_frame = spark.read.json('s3a://real-estate/staging/201108_Solothurn_buy_0_flat.gz')\n",
    "data_frame.show()"
   ]
  },
  {
   "cell_type": "code",
   "execution_count": 5,
   "metadata": {},
   "outputs": [],
   "source": [
    "spark.range(5).write.format(\"delta\").mode(\"overwrite\").save(\"s3a://test/delta/delta_jupyter_notebook12388\")"
   ]
  },
  {
   "cell_type": "code",
   "execution_count": 6,
   "metadata": {},
   "outputs": [
    {
     "name": "stdout",
     "output_type": "stream",
     "text": [
      "+---+\n",
      "| id|\n",
      "+---+\n",
      "|  2|\n",
      "|  3|\n",
      "|  4|\n",
      "|  0|\n",
      "|  1|\n",
      "+---+\n",
      "\n"
     ]
    }
   ],
   "source": [
    "df_d = spark.read.format(\"delta\").load(\"s3a://test/delta/delta_jupyter_notebook12388\")\n",
    "df_d.show()"
   ]
  },
  {
   "cell_type": "code",
   "execution_count": 7,
   "metadata": {},
   "outputs": [],
   "source": [
    "sc.stop()"
   ]
  }
 ],
 "metadata": {
  "kernelspec": {
   "display_name": "Python 3",
   "language": "python",
   "name": "python3"
  },
  "language_info": {
   "codemirror_mode": {
    "name": "ipython",
    "version": 3
   },
   "file_extension": ".py",
   "mimetype": "text/x-python",
   "name": "python",
   "nbconvert_exporter": "python",
   "pygments_lexer": "ipython3",
   "version": "3.7.7"
  }
 },
 "nbformat": 4,
 "nbformat_minor": 4
}
